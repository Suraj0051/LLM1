{
 "cells": [
  {
   "cell_type": "markdown",
   "id": "6b38e174-5f26-4192-8cba-4df6b386ecaa",
   "metadata": {},
   "source": [
    "API Doc: https://aml-llm-models.icp.infineon.com/documentation\n",
    "\n",
    "Token: https://aml-llm-models.icp.infineon.com/auth/token\n",
    "\n",
    "Available models:\n",
    "- llm70b - LLAMA-2\n",
    "- llm34b - Yi-chat-34b\n",
    "- llm7b - StarlingLM7bb\n"
   ]
  },
  {
   "cell_type": "code",
   "execution_count": 1,
   "id": "17ea4d5b-00b7-4af5-b527-c502d68dba35",
   "metadata": {},
   "outputs": [
    {
     "name": "stdout",
     "output_type": "stream",
     "text": [
      "eyJhbGciOiJSUzI1NiIsImtpZCI6Ik52TWQ1WXNQd0JvOTJEd2xIbm9TTXNISTh4byIsInBpLmF0bSI6Im5idjMifQ.eyJzY29wZSI6Im9wZW5pZCBlbWFpbCBwcm9maWxlIiwiY2xpZW50X2lkIjoiTUlBTUlfREVTQU1MIiwiaXNzIjoiaHR0cHM6Ly9zc28uaW5maW5lb24uY29tIiwibGFzdE5hbWUiOiJOYWlyIiwiZW1haWxfdmVyaWZpZWQiOiJ0cnVlIiwiY291bnRyeVNob3J0IjoiSU4iLCJkaXNwbGF5TmFtZSI6Ik5haXIgU3VyYWogUmV0aGVlc2ggKEFUViBNQyBQRCBTVyBWSU0pIiwiY3JlYXRlVGltZVN0YW1wIjoiMjAyMzExMjgwNjA3MjMuMDAwWiIsIm1haWxEb21haW5UeXBlIjoiT0siLCJhdWQiOiJNSUFNSV9ERVNBTUwiLCJmaXJzdE5hbWUiOiJTdXJhaiBSZXRoZWVzaCIsIm9iamVjdEdVSUQiOiIzMEMyMjAzOS00NzY3LTQ0QkMtQjk2OS1FRTMzOUEzMTM5MEYiLCJjb21wYW55IjoiSW5maW5lb24gVGVjaG5vbG9naWVzIEluZGlhIFB2dC4gTHRkLiIsInJlYWxtIjoiSU5UIiwiZW1haWwiOiJTdXJhalJldGhlZXNoLk5haXJAaW5maW5lb24uY29tIiwiaGFzUmVnaXN0ZXJlZCI6ImZhbHNlIiwidXNlcm5hbWUiOiJuYWlyc3VyYWpyZXQiLCJleHAiOjE3MDU5MjkwMzN9.PBZKQNSlQPQHsbauoLBKQGJTVTZbRqLANTVxrZlO6CKE6kRIsvV09SgkucO2W172ruKsCi7ildxnlH90z4ZNvW7R5QNIapqWcriRmrnQlcxDNO4G9PHZaIFAAld4Ug9sT8Df_jIPWtNbYD4mGyuDtLjqdN_i47Me5y8tybjK3_3VZyzcoXY3YAvqCks-em8djhDWXTPaDFJtFyMf4CCIegps6v5jFJcOzKGvcfbdE_PLpjaSzHtfuRx1s4RaljllPCvtTkADXrB0_25G1kU8rDPteIiEhabuEGNZZt-DeT0kINeD8BftDE-rpviw4jrFHXuczU9mlIBlk9aVlIrPMQ\n"
     ]
    }
   ],
   "source": [
    "import os\n",
    "import openai\n",
    "# Token and ca-bundle.crt are in the same folder.\n",
    "os.environ['REQUESTS_CA_BUNDLE'] = \"./ca-bundle.crt\"\n",
    "with open(\"token\", \"r\") as f:\n",
    "    key = f.read().strip()\n",
    "    \n",
    "print(key)\n",
    "headers = {\n",
    "    \"Authorization\": f\"Bearer {key}\",\n",
    "}\n",
    "openai.api_key = \"EMPTY\"\n",
    "openai.api_base = \"https://aml-llm-models.icp.infineon.com/v1\""
   ]
  },
  {
   "cell_type": "code",
   "execution_count": 2,
   "id": "c5cff3df-02d8-4701-97f5-e002c63a6de8",
   "metadata": {},
   "outputs": [],
   "source": [
    "def test_completion_api(prompt, model='llm7b'):  \n",
    "            completion = openai.Completion.create(  \n",
    "                model=model,  \n",
    "                prompt=prompt,    \n",
    "                max_tokens=256,  \n",
    "                stream=False,  \n",
    "                temperature=0,  \n",
    "                headers={'Authorization': f\"Bearer {key}\",})\n",
    "            print(completion.choices[0][\"text\"])  "
   ]
  },
  {
   "cell_type": "code",
   "execution_count": 3,
   "id": "64560ac4-b704-4a9a-abb5-933f41759bd0",
   "metadata": {},
   "outputs": [
    {
     "name": "stdout",
     "output_type": "stream",
     "text": [
      " Here are some common RISC-V extensions:\n",
      "\n",
      "1. M-extension: This extension provides support for multi-threading and multi-core architectures. It includes features like MMU (Memory Management Unit) and TLB (Translation Lookaside Buffer) for efficient memory management.\n",
      "2. D-extension: This extension provides support for double precision floating-point operations, which are essential for high-precision calculations in scientific and engineering applications.\n",
      "3. F-extension: This extension provides support for single-precision and double-precision floating-point operations, as well as support for SIMD (Single Instruction, Multiple Data) operations. It is useful for applications that require high-performance floating-point calculations, such as graphics rendering and machine learning.\n",
      "4. I-extension: This extension provides support for integer multiplication and division operations, which can improve the performance of applications that require frequent integer arithmetic operations.\n",
      "5. C-extension: This extension provides support for compressed instruction encoding, which can reduce the size of the instruction set and improve code density. This can lead to more efficient use of memory and faster execution times.\n",
      "6. Z-extension: This extension provides support\n"
     ]
    }
   ],
   "source": [
    "test_completion_api(\"Name all extensions for Risc-v.\")"
   ]
  },
  {
   "cell_type": "code",
   "execution_count": 4,
   "id": "06e80aba-30f5-4f32-83db-db1145f33aa0",
   "metadata": {},
   "outputs": [
    {
     "name": "stdout",
     "output_type": "stream",
     "text": [
      " As of my last update in October 2021, Berlin is in the Central European Time (CET) zone, while Tokyo is in the Japan Standard Time (JST) zone. However, these time zones may change due to daylight saving time or other factors. To get the most accurate and up-to-date information on the current time in Berlin and Tokyo, I recommend checking a reliable world clock or time zone converter website or app.\n",
      "\n",
      "Here are some popular websites and apps that provide real-time information on the current time in different cities around the world:\n",
      "\n",
      "1. World Time Server (website): https://www.worldtimeserver.com/\n",
      "2. Time and Date (website): https://www.timeanddate.com/\n",
      "3. World Clock (app for iOS and Android): https://apps.apple.com/us/app/world-clock/id353008080\n",
      "4. World Clock (app for iOS and Android): https://play.google.com/store/apps/details?id=com.worldclock\n",
      "\n",
      "These resources will provide you with the most accurate and up-to-date information on the current time in\n"
     ]
    }
   ],
   "source": [
    "test_completion_api(\"what is the current time in Berlin and Tokyo?\")"
   ]
  },
  {
   "cell_type": "code",
   "execution_count": 5,
   "id": "e1fc4a75-64ed-49c1-9c03-e6fabf4a0bbe",
   "metadata": {},
   "outputs": [],
   "source": [
    "def test_chat_completion_api():  \n",
    "    model='llm70b'  \n",
    "    user_message = \"Hi\"    \n",
    "    bot_message = \"Hello, How are you?\"  \n",
    "    completion = openai.ChatCompletion.create(  \n",
    "        model=model,  \n",
    "        messages=[{\"role\": \"user\", \"content\": user_message},  \n",
    "                  {\"role\":\"assistant\", \"content\": bot_message}],  \n",
    "        max_tokens=256,  \n",
    "        stream=False,  \n",
    "        temperature=0.7,  \n",
    "        headers=headers  \n",
    "    )\n",
    "    print(completion.choices[0].message.content)"
   ]
  },
  {
   "cell_type": "code",
   "execution_count": 6,
   "id": "19ebb28e-5ffa-49a7-aca1-e4467956fee4",
   "metadata": {},
   "outputs": [
    {
     "name": "stdout",
     "output_type": "stream",
     "text": [
      " I'm an AI and don't have feelings, but I'm here to help you! How can I assist you today?\n"
     ]
    }
   ],
   "source": [
    "test_chat_completion_api()"
   ]
  },
  {
   "cell_type": "code",
   "execution_count": null,
   "id": "9d8e3d63-6797-44db-b1b0-c493dba08797",
   "metadata": {},
   "outputs": [],
   "source": []
  }
 ],
 "metadata": {
  "kernelspec": {
   "display_name": "Python 3 (ipykernel)",
   "language": "python",
   "name": "python3"
  },
  "language_info": {
   "codemirror_mode": {
    "name": "ipython",
    "version": 3
   },
   "file_extension": ".py",
   "mimetype": "text/x-python",
   "name": "python",
   "nbconvert_exporter": "python",
   "pygments_lexer": "ipython3",
   "version": "3.12.1"
  }
 },
 "nbformat": 4,
 "nbformat_minor": 5
}
